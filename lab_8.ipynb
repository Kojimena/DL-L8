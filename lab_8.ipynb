{
 "cells": [
  {
   "cell_type": "markdown",
   "metadata": {},
   "source": [
    "# Laboratorio 8\n",
    "- Jimena Hernández\n",
    "- Mark Albrand"
   ]
  },
  {
   "cell_type": "code",
   "execution_count": 22,
   "metadata": {},
   "outputs": [],
   "source": [
    "import gensim\n",
    "from gensim.models import Word2Vec"
   ]
  },
  {
   "cell_type": "code",
   "execution_count": 23,
   "metadata": {},
   "outputs": [],
   "source": [
    "documents = [\n",
    "    \"The quick brown fox jumps over the lazy dog.\",\n",
    "    \"Artificial intelligence is transforming the world rapidly.\",\n",
    "    \"Python is an incredibly versatile programming language.\",\n",
    "    \"She sells seashells by the seashore on a sunny day.\",\n",
    "    \"Data science involves statistics, coding, and domain expertise.\",\n",
    "    \"In the heart of the forest, the birds sing their morning song.\",\n",
    "    \"Space exploration has always captured the imagination of humanity.\",\n",
    "    \"The coffee machine broke just before the morning rush.\",\n",
    "    \"Quantum computing could revolutionize cryptography and data security.\",\n",
    "    \"A warm cup of tea can be soothing on a cold winter evening.\"\n",
    "]"
   ]
  },
  {
   "cell_type": "code",
   "execution_count": 24,
   "metadata": {},
   "outputs": [],
   "source": [
    "tokenized_documents = [doc.lower().split() for doc in documents]"
   ]
  },
  {
   "cell_type": "code",
   "execution_count": 25,
   "metadata": {},
   "outputs": [
    {
     "data": {
      "text/plain": [
       "(55, 184)"
      ]
     },
     "execution_count": 25,
     "metadata": {},
     "output_type": "execute_result"
    }
   ],
   "source": [
    "# Crear el modelo Word2Vec\n",
    "model = Word2Vec(\n",
    "    tokenized_documents,\n",
    "    vector_size=50,\n",
    "    window=5,\n",
    "    min_count=1,\n",
    "    workers=10\n",
    ")\n",
    "\n",
    "model.train(tokenized_documents, total_examples=len(tokenized_documents), epochs=2)"
   ]
  },
  {
   "cell_type": "code",
   "execution_count": 26,
   "metadata": {},
   "outputs": [
    {
     "name": "stdout",
     "output_type": "stream",
     "text": [
      "[('coding,', 0.3250468671321869), ('song.', 0.2955818474292755), ('expertise.', 0.22256843745708466)]\n"
     ]
    }
   ],
   "source": [
    "similar_words = model.wv.most_similar('machine', topn=3)\n",
    "print(similar_words)"
   ]
  },
  {
   "cell_type": "code",
   "execution_count": 27,
   "metadata": {},
   "outputs": [
    {
     "name": "stdout",
     "output_type": "stream",
     "text": [
      "[ 1.56363770e-02 -1.90207418e-02 -4.05694736e-04  6.93504512e-03\n",
      " -1.87967077e-03  1.67634841e-02  1.80184375e-02  1.30748404e-02\n",
      " -1.42475578e-03  1.54197486e-02 -1.70646980e-02  6.41230494e-03\n",
      " -9.27368738e-03 -1.01767350e-02  7.18082907e-03  1.07411928e-02\n",
      "  1.55367181e-02 -1.15312962e-02  1.48676634e-02  1.32469134e-02\n",
      " -7.42002204e-03 -1.74926557e-02  1.08768437e-02  1.30189145e-02\n",
      " -1.57641794e-03 -1.34170018e-02 -1.41690243e-02 -4.99411114e-03\n",
      "  1.02887480e-02 -7.32928282e-03 -1.87415890e-02  7.65435817e-03\n",
      "  9.76990722e-03 -1.28525477e-02  2.42000283e-03 -4.14695358e-03\n",
      "  5.11084909e-05 -1.97666250e-02  5.38482517e-03 -9.49984975e-03\n",
      "  2.17539258e-03 -3.15230014e-03  4.38969163e-03 -1.57610700e-02\n",
      " -5.43577783e-03  5.32547431e-03  1.06922062e-02 -4.78471350e-03\n",
      " -1.90206673e-02  9.00904741e-03]\n"
     ]
    }
   ],
   "source": [
    "print(model.wv['is'])"
   ]
  }
 ],
 "metadata": {
  "kernelspec": {
   "display_name": "Python 3",
   "language": "python",
   "name": "python3"
  },
  "language_info": {
   "codemirror_mode": {
    "name": "ipython",
    "version": 3
   },
   "file_extension": ".py",
   "mimetype": "text/x-python",
   "name": "python",
   "nbconvert_exporter": "python",
   "pygments_lexer": "ipython3",
   "version": "3.11.4"
  }
 },
 "nbformat": 4,
 "nbformat_minor": 2
}
